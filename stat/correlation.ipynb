{
 "cells": [
  {
   "cell_type": "markdown",
   "metadata": {},
   "source": [
    "## What is Correlation"
   ]
  },
  {
   "cell_type": "markdown",
   "metadata": {},
   "source": [
    "correlation คือ การหาความสัมพันธ์ ระหว่างสองตัวแปร"
   ]
  },
  {
   "cell_type": "markdown",
   "metadata": {},
   "source": [
    "# ค่าสหสัมพันธ์ (Correlation)"
   ]
  },
  {
   "cell_type": "code",
   "execution_count": 2,
   "metadata": {},
   "outputs": [],
   "source": [
    "from typing import List\n",
    "import numpy as np"
   ]
  },
  {
   "cell_type": "markdown",
   "metadata": {},
   "source": [
    "### ค่าแปรปรวนร่วม (Covariance)"
   ]
  },
  {
   "cell_type": "markdown",
   "metadata": {},
   "source": [
    "* ดูที่ ค่าแปรปรวนร่วม (covariance)"
   ]
  },
  {
   "cell_type": "markdown",
   "metadata": {},
   "source": [
    "เพื่อดูว่า ตัวแปรสองตัวมีความเปลี่ยนแปรงตามกันมากแค่ไหน"
   ]
  },
  {
   "cell_type": "code",
   "execution_count": 17,
   "metadata": {},
   "outputs": [],
   "source": [
    "Vector = List[float]"
   ]
  },
  {
   "cell_type": "code",
   "execution_count": 18,
   "metadata": {},
   "outputs": [],
   "source": [
    "def dot(v: Vector,w: Vector) -> float:\n",
    "    assert len(v) == len(w) , 'Vector must be in the same length'\n",
    "    return sum(v_i*w_i for v_i,w_i in zip(v,w))"
   ]
  },
  {
   "cell_type": "code",
   "execution_count": 4,
   "metadata": {},
   "outputs": [],
   "source": [
    "def de_mean(xs:List[float]) -> List[float]:\n",
    "    xs_bar = xs.mean()\n",
    "    return [ x_i - xs_bar for x_i in xs ]\n"
   ]
  },
  {
   "cell_type": "code",
   "execution_count": 19,
   "metadata": {},
   "outputs": [],
   "source": [
    "def covariance(xs:List[float] ,ys: List[float]) -> float :\n",
    "    assert len(xs) == len(ys) ,'ต้องเท่ากัน'\n",
    "    de_xs = de_mean(xs)\n",
    "    de_ys = de_mean(ys)\n",
    "    return dot(de_mean(xs) , de_mean(ys)) / (len(xs) -1 )\n"
   ]
  },
  {
   "cell_type": "markdown",
   "metadata": {},
   "source": [
    "* Example"
   ]
  },
  {
   "cell_type": "code",
   "execution_count": 13,
   "metadata": {},
   "outputs": [
    {
     "data": {
      "text/plain": [
       "array([ 1,  2,  3,  4,  5,  6,  7,  8,  9, 10])"
      ]
     },
     "execution_count": 13,
     "metadata": {},
     "output_type": "execute_result"
    }
   ],
   "source": [
    "a = np.arange(1,11)"
   ]
  },
  {
   "cell_type": "code",
   "execution_count": 15,
   "metadata": {},
   "outputs": [
    {
     "data": {
      "text/plain": [
       "array([21, 22, 23, 24, 25, 26, 27, 28, 29, 30])"
      ]
     },
     "execution_count": 15,
     "metadata": {},
     "output_type": "execute_result"
    }
   ],
   "source": [
    "b = np.arange(21,31)"
   ]
  },
  {
   "cell_type": "code",
   "execution_count": 20,
   "metadata": {},
   "outputs": [
    {
     "data": {
      "text/plain": [
       "9.166666666666666"
      ]
     },
     "execution_count": 20,
     "metadata": {},
     "output_type": "execute_result"
    }
   ],
   "source": [
    "covariance(a,b)"
   ]
  },
  {
   "cell_type": "markdown",
   "metadata": {},
   "source": [
    "* หากว่าค่า covariance > 0 แสดงว่ามีความเกี่ยวข้องแบบ ถ้า x เพิ่ม y เพิ่ม  \n",
    "* หากว่าค่า covariance < 0 แสดงว่ามีความเกี่ยวข้องแบบ ถ้า x ลด y ลด  \n",
    "ยิ่งมากแสดงว่าเกี่ยวข้องมาก ยิ่งเข้าใกล้ 0 คือ มีความเกี่ยวข้องน้อย หรือ อาจไม่มีความเกี่ยวข้อเลย  "
   ]
  },
  {
   "cell_type": "markdown",
   "metadata": {},
   "source": [
    "อย่างไรก็ตาม ค่า covariance อาจตีความได้ยากเพราะ  \n",
    "* หน่วยของผลลัพธ์เป็นหน่วยของ input  \n",
    "* หากจำนวน x มีค่าเพิ่มขึ้น 2 เท่า แต่ y เท่าเดิม ความแปรปรวนร่วมจะเพิ่มขึ้น 2 เท่า  \n",
    "  แต่ในแง่มุมนึง ตัวแปรแค่มีความสัมพันธ์กันเท่านั้น มันยากที่จะนับว่า เป็นค่า แปรปรวนร่วมที่มากขึ้น"
   ]
  },
  {
   "cell_type": "markdown",
   "metadata": {},
   "source": [
    "เราจึงต้องพิจารณาค่า **สหสัมพันธ์(Correlation)** ซึ่งแยกส่วนเบี่ยงเบนมาตรฐานออกจากกัน"
   ]
  },
  {
   "cell_type": "markdown",
   "metadata": {},
   "source": [
    "### ค่าสหสัมพันธ์ (Correlation)"
   ]
  },
  {
   "cell_type": "code",
   "execution_count": 22,
   "metadata": {},
   "outputs": [],
   "source": [
    "import math"
   ]
  },
  {
   "cell_type": "code",
   "execution_count": 21,
   "metadata": {},
   "outputs": [],
   "source": [
    "def sum_of_square(xs : List[float]) -> float:\n",
    "    s = 0\n",
    "    for n in xs:\n",
    "        s += n**2\n",
    "    return s"
   ]
  },
  {
   "cell_type": "code",
   "execution_count": 23,
   "metadata": {},
   "outputs": [],
   "source": [
    "def standard_deviation(xs:List[float]) -> float:\n",
    "    return math.sqrt(sum_of_square(xs)/(len(xs)-1))\n"
   ]
  },
  {
   "cell_type": "code",
   "execution_count": 25,
   "metadata": {},
   "outputs": [],
   "source": [
    "def correlation(xs:List[float] , ys:List[float]) -> float:\n",
    "    stdev_x = standard_deviation(xs)\n",
    "    stdev_y = standard_deviation(ys)\n",
    "    if stdev_x > 0 and stdev_y > 0: \n",
    "        return covariance(xs,ys)/ stdev_x / stdev_y\n",
    "    else :\n",
    "        return 0"
   ]
  }
 ],
 "metadata": {
  "kernelspec": {
   "display_name": "Python 3.10.5 64-bit",
   "language": "python",
   "name": "python3"
  },
  "language_info": {
   "codemirror_mode": {
    "name": "ipython",
    "version": 3
   },
   "file_extension": ".py",
   "mimetype": "text/x-python",
   "name": "python",
   "nbconvert_exporter": "python",
   "pygments_lexer": "ipython3",
   "version": "3.10.5"
  },
  "orig_nbformat": 4,
  "vscode": {
   "interpreter": {
    "hash": "afb734500600fd355917ca529030176ea0ca205570884b88f2f6f7d791fd3fbe"
   }
  }
 },
 "nbformat": 4,
 "nbformat_minor": 2
}
