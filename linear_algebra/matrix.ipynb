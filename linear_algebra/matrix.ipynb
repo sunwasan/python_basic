{
 "cells": [
  {
   "cell_type": "markdown",
   "metadata": {},
   "source": [
    "# Matrix"
   ]
  },
  {
   "cell_type": "markdown",
   "metadata": {},
   "source": [
    "* เมทริกซ์คือการรวบรวมตัวเลข ในแบบ 2 มิติ โดยเราจะแทนเมทริกซ์ ด้วยลิสต์ของลิสต์ "
   ]
  },
  {
   "cell_type": "markdown",
   "metadata": {},
   "source": [
    "* Ex ถ้า A เป็นเมทริกซ์แล้ว A[i][j] คือองค์ประกอบที่ i คอลลัมน์ ที่ j"
   ]
  },
  {
   "cell_type": "markdown",
   "metadata": {},
   "source": [
    "และ ด้วยเราใช้เป็น list จะเริ่มนับตำแหน่ง จาก แถว 0 คอลลัมน์ 0"
   ]
  },
  {
   "cell_type": "code",
   "execution_count": 1,
   "metadata": {},
   "outputs": [],
   "source": [
    "from typing import List"
   ]
  },
  {
   "cell_type": "code",
   "execution_count": 2,
   "metadata": {},
   "outputs": [],
   "source": [
    "Matrix = List[List[float]]"
   ]
  },
  {
   "cell_type": "code",
   "execution_count": 3,
   "metadata": {},
   "outputs": [],
   "source": [
    "A = [[1,2,3],                 # A มี 2 แถว 3 คอลลัมน์\n",
    "     [4,5,6]]"
   ]
  },
  {
   "cell_type": "code",
   "execution_count": 4,
   "metadata": {},
   "outputs": [],
   "source": [
    "B =[[1,2],                    # B มี 3 แถว 2 คอลลัมน์\n",
    "    [3,4],\n",
    "    [5,6]]"
   ]
  }
 ],
 "metadata": {
  "kernelspec": {
   "display_name": "Python 3.10.5 64-bit",
   "language": "python",
   "name": "python3"
  },
  "language_info": {
   "codemirror_mode": {
    "name": "ipython",
    "version": 3
   },
   "file_extension": ".py",
   "mimetype": "text/x-python",
   "name": "python",
   "nbconvert_exporter": "python",
   "pygments_lexer": "ipython3",
   "version": "3.10.5"
  },
  "orig_nbformat": 4,
  "vscode": {
   "interpreter": {
    "hash": "afb734500600fd355917ca529030176ea0ca205570884b88f2f6f7d791fd3fbe"
   }
  }
 },
 "nbformat": 4,
 "nbformat_minor": 2
}
